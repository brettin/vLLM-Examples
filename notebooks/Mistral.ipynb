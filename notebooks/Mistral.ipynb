{
 "cells": [
  {
   "cell_type": "code",
   "execution_count": 1,
   "id": "859e0352",
   "metadata": {},
   "outputs": [
    {
     "name": "stderr",
     "output_type": "stream",
     "text": [
      "/rbscratch/brettin/conda_envs/vLLM/lib/python3.9/site-packages/transformers/utils/hub.py:124: FutureWarning: Using `TRANSFORMERS_CACHE` is deprecated and will be removed in v5 of Transformers. Use `HF_HOME` instead.\n",
      "  warnings.warn(\n",
      "2024-02-28 04:53:58,105\tINFO worker.py:1540 -- Connecting to existing Ray cluster at address: 140.221.79.202:6379...\n",
      "2024-02-28 04:53:58,119\tINFO worker.py:1724 -- Connected to Ray cluster.\n"
     ]
    },
    {
     "name": "stdout",
     "output_type": "stream",
     "text": [
      "INFO 02-28 04:53:58 llm_engine.py:72] Initializing an LLM engine with config: model='mistralai/Mixtral-8x7B-Instruct-v0.1', tokenizer='mistralai/Mixtral-8x7B-Instruct-v0.1', tokenizer_mode=auto, revision=None, tokenizer_revision=None, trust_remote_code=True, dtype=torch.bfloat16, max_seq_len=32768, download_dir=None, load_format=auto, tensor_parallel_size=4, disable_custom_all_reduce=False, quantization=None, enforce_eager=False, kv_cache_dtype=auto, seed=0)\n"
     ]
    },
    {
     "name": "stderr",
     "output_type": "stream",
     "text": [
      "\u001b[33m(raylet)\u001b[0m [2024-02-28 04:53:58,692 E 84583 84623] (raylet) file_system_monitor.cc:111: /tmp/ray/session_2024-02-13_18-32-34_803218_78754 is over 95% full, available space: 93860130816; capacity: 1888426192896. Object creation will fail if spilling is required.\n",
      "\u001b[33m(raylet)\u001b[0m [2024-02-28 04:54:08,695 E 84583 84623] (raylet) file_system_monitor.cc:111: /tmp/ray/session_2024-02-13_18-32-34_803218_78754 is over 95% full, available space: 93860020224; capacity: 1888426192896. Object creation will fail if spilling is required.\n"
     ]
    },
    {
     "name": "stdout",
     "output_type": "stream",
     "text": [
      "NCCL version 2.18.1+cuda12.1\n"
     ]
    },
    {
     "name": "stderr",
     "output_type": "stream",
     "text": [
      "libibverbs: Warning: couldn't load driver 'librxe-rdmav34.so': librxe-rdmav34.so: cannot open shared object file: No such file or directory\n",
      "libibverbs: Warning: couldn't load driver '/usr/lib/libibverbs/libmlx4-rdmav34.so': /usr/lib/libibverbs/libmlx4-rdmav34.so: cannot open shared object file: No such file or directory\n",
      "\u001b[36m(RayWorkerVllm pid=111464)\u001b[0m libibverbs: Warning: couldn't load driver 'librxe-rdmav34.so': librxe-rdmav34.so: cannot open shared object file: No such file or directory\n",
      "\u001b[36m(RayWorkerVllm pid=111464)\u001b[0m libibverbs: Warning: couldn't load driver '/usr/lib/libibverbs/libmlx4-rdmav34.so': /usr/lib/libibverbs/libmlx4-rdmav34.so: cannot open shared object file: No such file or directory\n"
     ]
    },
    {
     "name": "stdout",
     "output_type": "stream",
     "text": [
      "\u001b[36m(RayWorkerVllm pid=111464)\u001b[0m INFO 02-28 04:54:16 weight_utils.py:164] Using model weights format ['*.safetensors']\n",
      "INFO 02-28 04:54:16 weight_utils.py:164] Using model weights format ['*.safetensors']\n"
     ]
    },
    {
     "name": "stderr",
     "output_type": "stream",
     "text": [
      "\u001b[33m(raylet)\u001b[0m [2024-02-28 04:54:18,700 E 84583 84623] (raylet) file_system_monitor.cc:111: /tmp/ray/session_2024-02-13_18-32-34_803218_78754 is over 95% full, available space: 93859659776; capacity: 1888426192896. Object creation will fail if spilling is required.\n",
      "\u001b[36m(RayWorkerVllm pid=111734)\u001b[0m libibverbs: Warning: couldn't load driver '/usr/lib/libibverbs/libmlx4-rdmav34.so': /usr/lib/libibverbs/libmlx4-rdmav34.so: cannot open shared object file: No such file or directory\u001b[32m [repeated 4x across cluster] (Ray deduplicates logs by default. Set RAY_DEDUP_LOGS=0 to disable log deduplication, or see https://docs.ray.io/en/master/ray-observability/ray-logging.html#log-deduplication for more options.)\u001b[0m\n",
      "\u001b[33m(raylet)\u001b[0m [2024-02-28 04:54:28,704 E 84583 84623] (raylet) file_system_monitor.cc:111: /tmp/ray/session_2024-02-13_18-32-34_803218_78754 is over 95% full, available space: 93859659776; capacity: 1888426192896. Object creation will fail if spilling is required.\n",
      "\u001b[33m(raylet)\u001b[0m [2024-02-28 04:54:38,711 E 84583 84623] (raylet) file_system_monitor.cc:111: /tmp/ray/session_2024-02-13_18-32-34_803218_78754 is over 95% full, available space: 93859651584; capacity: 1888426192896. Object creation will fail if spilling is required.\n",
      "\u001b[33m(raylet)\u001b[0m [2024-02-28 04:54:48,714 E 84583 84623] (raylet) file_system_monitor.cc:111: /tmp/ray/session_2024-02-13_18-32-34_803218_78754 is over 95% full, available space: 93859651584; capacity: 1888426192896. Object creation will fail if spilling is required.\n",
      "\u001b[33m(raylet)\u001b[0m [2024-02-28 04:54:58,717 E 84583 84623] (raylet) file_system_monitor.cc:111: /tmp/ray/session_2024-02-13_18-32-34_803218_78754 is over 95% full, available space: 93859614720; capacity: 1888426192896. Object creation will fail if spilling is required.\n",
      "\u001b[33m(raylet)\u001b[0m [2024-02-28 04:55:08,721 E 84583 84623] (raylet) file_system_monitor.cc:111: /tmp/ray/session_2024-02-13_18-32-34_803218_78754 is over 95% full, available space: 93859545088; capacity: 1888426192896. Object creation will fail if spilling is required.\n",
      "\u001b[33m(raylet)\u001b[0m [2024-02-28 04:55:18,725 E 84583 84623] (raylet) file_system_monitor.cc:111: /tmp/ray/session_2024-02-13_18-32-34_803218_78754 is over 95% full, available space: 93859172352; capacity: 1888426192896. Object creation will fail if spilling is required.\n",
      "\u001b[33m(raylet)\u001b[0m [2024-02-28 04:55:28,728 E 84583 84623] (raylet) file_system_monitor.cc:111: /tmp/ray/session_2024-02-13_18-32-34_803218_78754 is over 95% full, available space: 93859168256; capacity: 1888426192896. Object creation will fail if spilling is required.\n",
      "\u001b[33m(raylet)\u001b[0m [2024-02-28 04:55:38,731 E 84583 84623] (raylet) file_system_monitor.cc:111: /tmp/ray/session_2024-02-13_18-32-34_803218_78754 is over 95% full, available space: 93859168256; capacity: 1888426192896. Object creation will fail if spilling is required.\n",
      "\u001b[33m(raylet)\u001b[0m [2024-02-28 04:55:48,735 E 84583 84623] (raylet) file_system_monitor.cc:111: /tmp/ray/session_2024-02-13_18-32-34_803218_78754 is over 95% full, available space: 93859168256; capacity: 1888426192896. Object creation will fail if spilling is required.\n",
      "\u001b[33m(raylet)\u001b[0m [2024-02-28 04:55:58,738 E 84583 84623] (raylet) file_system_monitor.cc:111: /tmp/ray/session_2024-02-13_18-32-34_803218_78754 is over 95% full, available space: 93859135488; capacity: 1888426192896. Object creation will fail if spilling is required.\n",
      "\u001b[33m(raylet)\u001b[0m [2024-02-28 04:56:08,742 E 84583 84623] (raylet) file_system_monitor.cc:111: /tmp/ray/session_2024-02-13_18-32-34_803218_78754 is over 95% full, available space: 93859074048; capacity: 1888426192896. Object creation will fail if spilling is required.\n",
      "\u001b[33m(raylet)\u001b[0m [2024-02-28 04:56:18,745 E 84583 84623] (raylet) file_system_monitor.cc:111: /tmp/ray/session_2024-02-13_18-32-34_803218_78754 is over 95% full, available space: 93858717696; capacity: 1888426192896. Object creation will fail if spilling is required.\n",
      "\u001b[33m(raylet)\u001b[0m [2024-02-28 04:56:28,748 E 84583 84623] (raylet) file_system_monitor.cc:111: /tmp/ray/session_2024-02-13_18-32-34_803218_78754 is over 95% full, available space: 93858713600; capacity: 1888426192896. Object creation will fail if spilling is required.\n",
      "\u001b[33m(raylet)\u001b[0m [2024-02-28 04:56:38,751 E 84583 84623] (raylet) file_system_monitor.cc:111: /tmp/ray/session_2024-02-13_18-32-34_803218_78754 is over 95% full, available space: 93858709504; capacity: 1888426192896. Object creation will fail if spilling is required.\n",
      "\u001b[33m(raylet)\u001b[0m [2024-02-28 04:56:48,754 E 84583 84623] (raylet) file_system_monitor.cc:111: /tmp/ray/session_2024-02-13_18-32-34_803218_78754 is over 95% full, available space: 93858705408; capacity: 1888426192896. Object creation will fail if spilling is required.\n"
     ]
    },
    {
     "name": "stdout",
     "output_type": "stream",
     "text": [
      "INFO 02-28 04:56:57 llm_engine.py:322] # GPU blocks: 17156, # CPU blocks: 8192\n"
     ]
    },
    {
     "name": "stderr",
     "output_type": "stream",
     "text": [
      "\u001b[33m(raylet)\u001b[0m [2024-02-28 04:56:58,757 E 84583 84623] (raylet) file_system_monitor.cc:111: /tmp/ray/session_2024-02-13_18-32-34_803218_78754 is over 95% full, available space: 93858672640; capacity: 1888426192896. Object creation will fail if spilling is required.\n"
     ]
    },
    {
     "name": "stdout",
     "output_type": "stream",
     "text": [
      "INFO 02-28 04:56:59 model_runner.py:632] Capturing the model for CUDA graphs. This may lead to unexpected consequences if the model is not static. To run the model in eager mode, set 'enforce_eager=True' or use '--enforce-eager' in the CLI.\n",
      "INFO 02-28 04:56:59 model_runner.py:636] CUDA graphs can take additional 1~3 GiB memory per GPU. If you are running out of memory, consider decreasing `gpu_memory_utilization` or enforcing eager mode. You can also reduce the `max_num_seqs` as needed to decrease memory usage.\n",
      "\u001b[36m(RayWorkerVllm pid=111464)\u001b[0m INFO 02-28 04:56:59 model_runner.py:632] Capturing the model for CUDA graphs. This may lead to unexpected consequences if the model is not static. To run the model in eager mode, set 'enforce_eager=True' or use '--enforce-eager' in the CLI.\n",
      "\u001b[36m(RayWorkerVllm pid=111464)\u001b[0m INFO 02-28 04:56:59 model_runner.py:636] CUDA graphs can take additional 1~3 GiB memory per GPU. If you are running out of memory, consider decreasing `gpu_memory_utilization` or enforcing eager mode. You can also reduce the `max_num_seqs` as needed to decrease memory usage.\n",
      "\u001b[36m(RayWorkerVllm pid=111594)\u001b[0m INFO 02-28 04:54:16 weight_utils.py:164] Using model weights format ['*.safetensors']\u001b[32m [repeated 2x across cluster]\u001b[0m\n",
      "INFO 02-28 04:57:03 custom_all_reduce.py:199] Registering 2275 cuda graph addresses\n",
      "\u001b[36m(RayWorkerVllm pid=111464)\u001b[0m INFO 02-28 04:57:03 custom_all_reduce.py:199] Registering 2275 cuda graph addresses\n",
      "INFO 02-28 04:57:04 model_runner.py:698] Graph capturing finished in 5 secs.\n",
      "\u001b[36m(RayWorkerVllm pid=111464)\u001b[0m INFO 02-28 04:57:04 model_runner.py:698] Graph capturing finished in 5 secs.\n"
     ]
    },
    {
     "name": "stderr",
     "output_type": "stream",
     "text": [
      "\u001b[33m(raylet)\u001b[0m [2024-02-28 04:57:08,760 E 84583 84623] (raylet) file_system_monitor.cc:111: /tmp/ray/session_2024-02-13_18-32-34_803218_78754 is over 95% full, available space: 93858598912; capacity: 1888426192896. Object creation will fail if spilling is required.\n",
      "\u001b[33m(raylet)\u001b[0m [2024-02-28 04:57:18,765 E 84583 84623] (raylet) file_system_monitor.cc:111: /tmp/ray/session_2024-02-13_18-32-34_803218_78754 is over 95% full, available space: 93858226176; capacity: 1888426192896. Object creation will fail if spilling is required.\n",
      "\u001b[33m(raylet)\u001b[0m [2024-02-28 04:57:28,768 E 84583 84623] (raylet) file_system_monitor.cc:111: /tmp/ray/session_2024-02-13_18-32-34_803218_78754 is over 95% full, available space: 93858222080; capacity: 1888426192896. Object creation will fail if spilling is required.\n",
      "\u001b[33m(raylet)\u001b[0m [2024-02-28 04:57:38,771 E 84583 84623] (raylet) file_system_monitor.cc:111: /tmp/ray/session_2024-02-13_18-32-34_803218_78754 is over 95% full, available space: 93858217984; capacity: 1888426192896. Object creation will fail if spilling is required.\n",
      "\u001b[33m(raylet)\u001b[0m [2024-02-28 04:57:48,774 E 84583 84623] (raylet) file_system_monitor.cc:111: /tmp/ray/session_2024-02-13_18-32-34_803218_78754 is over 95% full, available space: 93858217984; capacity: 1888426192896. Object creation will fail if spilling is required.\n",
      "\u001b[33m(raylet)\u001b[0m [2024-02-28 04:57:58,779 E 84583 84623] (raylet) file_system_monitor.cc:111: /tmp/ray/session_2024-02-13_18-32-34_803218_78754 is over 95% full, available space: 93858168832; capacity: 1888426192896. Object creation will fail if spilling is required.\n",
      "\u001b[33m(raylet)\u001b[0m [2024-02-28 04:58:08,782 E 84583 84623] (raylet) file_system_monitor.cc:111: /tmp/ray/session_2024-02-13_18-32-34_803218_78754 is over 95% full, available space: 93858107392; capacity: 1888426192896. Object creation will fail if spilling is required.\n",
      "\u001b[33m(raylet)\u001b[0m [2024-02-28 04:58:18,785 E 84583 84623] (raylet) file_system_monitor.cc:111: /tmp/ray/session_2024-02-13_18-32-34_803218_78754 is over 95% full, available space: 93857751040; capacity: 1888426192896. Object creation will fail if spilling is required.\n",
      "\u001b[33m(raylet)\u001b[0m [2024-02-28 04:58:28,792 E 84583 84623] (raylet) file_system_monitor.cc:111: /tmp/ray/session_2024-02-13_18-32-34_803218_78754 is over 95% full, available space: 93857742848; capacity: 1888426192896. Object creation will fail if spilling is required.\n",
      "\u001b[33m(raylet)\u001b[0m [2024-02-28 04:58:38,795 E 84583 84623] (raylet) file_system_monitor.cc:111: /tmp/ray/session_2024-02-13_18-32-34_803218_78754 is over 95% full, available space: 93857738752; capacity: 1888426192896. Object creation will fail if spilling is required.\n",
      "\u001b[33m(raylet)\u001b[0m [2024-02-28 04:58:48,798 E 84583 84623] (raylet) file_system_monitor.cc:111: /tmp/ray/session_2024-02-13_18-32-34_803218_78754 is over 95% full, available space: 93857734656; capacity: 1888426192896. Object creation will fail if spilling is required.\n",
      "\u001b[33m(raylet)\u001b[0m [2024-02-28 04:58:58,801 E 84583 84623] (raylet) file_system_monitor.cc:111: /tmp/ray/session_2024-02-13_18-32-34_803218_78754 is over 95% full, available space: 93857701888; capacity: 1888426192896. Object creation will fail if spilling is required.\n",
      "\u001b[33m(raylet)\u001b[0m [2024-02-28 04:59:08,806 E 84583 84623] (raylet) file_system_monitor.cc:111: /tmp/ray/session_2024-02-13_18-32-34_803218_78754 is over 95% full, available space: 93857644544; capacity: 1888426192896. Object creation will fail if spilling is required.\n",
      "\u001b[33m(raylet)\u001b[0m [2024-02-28 04:59:18,809 E 84583 84623] (raylet) file_system_monitor.cc:111: /tmp/ray/session_2024-02-13_18-32-34_803218_78754 is over 95% full, available space: 93857280000; capacity: 1888426192896. Object creation will fail if spilling is required.\n",
      "\u001b[33m(raylet)\u001b[0m [2024-02-28 04:59:28,813 E 84583 84623] (raylet) file_system_monitor.cc:111: /tmp/ray/session_2024-02-13_18-32-34_803218_78754 is over 95% full, available space: 93857271808; capacity: 1888426192896. Object creation will fail if spilling is required.\n",
      "\u001b[33m(raylet)\u001b[0m [2024-02-28 04:59:38,815 E 84583 84623] (raylet) file_system_monitor.cc:111: /tmp/ray/session_2024-02-13_18-32-34_803218_78754 is over 95% full, available space: 93857267712; capacity: 1888426192896. Object creation will fail if spilling is required.\n",
      "\u001b[33m(raylet)\u001b[0m [2024-02-28 04:59:48,821 E 84583 84623] (raylet) file_system_monitor.cc:111: /tmp/ray/session_2024-02-13_18-32-34_803218_78754 is over 95% full, available space: 93857263616; capacity: 1888426192896. Object creation will fail if spilling is required.\n",
      "\u001b[33m(raylet)\u001b[0m [2024-02-28 04:59:58,824 E 84583 84623] (raylet) file_system_monitor.cc:111: /tmp/ray/session_2024-02-13_18-32-34_803218_78754 is over 95% full, available space: 93857230848; capacity: 1888426192896. Object creation will fail if spilling is required.\n",
      "\u001b[33m(raylet)\u001b[0m [2024-02-28 05:00:08,827 E 84583 84623] (raylet) file_system_monitor.cc:111: /tmp/ray/session_2024-02-13_18-32-34_803218_78754 is over 95% full, available space: 93857165312; capacity: 1888426192896. Object creation will fail if spilling is required.\n",
      "\u001b[33m(raylet)\u001b[0m [2024-02-28 05:00:18,830 E 84583 84623] (raylet) file_system_monitor.cc:111: /tmp/ray/session_2024-02-13_18-32-34_803218_78754 is over 95% full, available space: 93856808960; capacity: 1888426192896. Object creation will fail if spilling is required.\n"
     ]
    }
   ],
   "source": [
    "from vllm import LLM, SamplingParams\n",
    "import ray\n",
    "\n",
    "# ray.init(num_cpus=32, num_gpus=4)\n",
    "# you can not override num_cpu, num_gpu when connecting to an existing cluster\n",
    "\n",
    "#model=\"tiiuae/falcon-40b\"\n",
    "model=\"mistralai/Mistral-7B-v0.1\"       # requires tensor_parallel_size=2\n",
    "# model=\"upstage/SOLAR-10.7B-v1.0\"      # does not generate a valid response.\n",
    "model=\"mistralai/Mixtral-8x7B-Instruct-v0.1\" # requires tensor_parrallel_size=4\n",
    "\n",
    "# vLLM does not support multiple instanes, so only instanciate LLM once.\n",
    "llm = LLM(model=model, trust_remote_code=True, tensor_parallel_size=4)"
   ]
  },
  {
   "cell_type": "code",
   "execution_count": 3,
   "id": "1410895b",
   "metadata": {
    "scrolled": true
   },
   "outputs": [
    {
     "name": "stderr",
     "output_type": "stream",
     "text": [
      "Processed prompts: 100%|██████████████████████████| 1/1 [00:04<00:00,  4.09s/it]"
     ]
    },
    {
     "name": "stdout",
     "output_type": "stream",
     "text": [
      "\n",
      "\n",
      "5-(hydroxymethyl)furfural (5-HMF) and furfural are aldehyde compounds that are formed during the thermal degradation of carbohydrates, such as those found in lignocellulosic biomass. These compounds can be toxic to microorganisms, including yeast, and can inhibit the fermentation process during the production of biofuels and other bioproducts.\n",
      "\n",
      "The 5-(hydroxymethyl)furfural/furfural transporter is a protein that is responsible for the transport of 5-HMF and furfural across the cell membrane in yeast. This transporter is a member of the major facilitator superfamily (MFS) of transporters, which are membrane proteins that use the proton motive force to transport a wide variety of substrates across the cell membrane.\n",
      "\n",
      "The 5-(hydroxymethyl)furfural/furfural transporter is encoded by the FFU1 gene in Saccharomyces cerevisiae, and is expressed in response to the presence of 5-HMF and furfural in the environment. The transporter has been shown to play a role in the detoxification of these compounds, as well as in the tolerance of yeast to inhibitory compounds found in lignocellulosic hydrolysates.\n",
      "\n",
      "In summary, the 5-(hydroxymethyl)furfural/furfural transporter is a protein that is responsible for the transport of toxic aldehyde compounds across the cell membrane in yeast, and plays a role in the detoxification and tolerance of these compounds in lignocellulosic hydrolysates.\"\n"
     ]
    },
    {
     "name": "stderr",
     "output_type": "stream",
     "text": [
      "\n"
     ]
    }
   ],
   "source": [
    "prompt=\"\"\"\"Please provide a detailed description of the biochemical function \n",
    "5-(hydroxymethyl)furfural/furfural transporter.\"\"\"\n",
    "sampling_params = SamplingParams(temperature=0.2, max_tokens=512, n=1)\n",
    "output = llm.generate(prompt, sampling_params)\n",
    "print (output[0].outputs[0].text)"
   ]
  },
  {
   "cell_type": "code",
   "execution_count": null,
   "id": "df019d38",
   "metadata": {},
   "outputs": [],
   "source": [
    "for request_output in output:\n",
    "    print(f'\\n\\n{request_output}\\n\\n')\n",
    "    for completion_output in request_output.outputs:\n",
    "        print(f'\\t{completion_output}\\n\\n')"
   ]
  }
 ],
 "metadata": {
  "kernelspec": {
   "display_name": "Python 3 (ipykernel)",
   "language": "python",
   "name": "python3"
  },
  "language_info": {
   "codemirror_mode": {
    "name": "ipython",
    "version": 3
   },
   "file_extension": ".py",
   "mimetype": "text/x-python",
   "name": "python",
   "nbconvert_exporter": "python",
   "pygments_lexer": "ipython3",
   "version": "3.9.18"
  }
 },
 "nbformat": 4,
 "nbformat_minor": 5
}
