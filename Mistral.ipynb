{
 "cells": [
  {
   "cell_type": "code",
   "execution_count": null,
   "id": "859e0352",
   "metadata": {},
   "outputs": [],
   "source": [
    "from vllm import LLM, SamplingParams\n",
    "import ray\n",
    "\n",
    "# ray.init(num_cpus=32, num_gpus=4)\n",
    "# you can not override num_cpu, num_gpu when connecting to an existing cluster\n",
    "\n",
    "#model=\"tiiuae/falcon-40b\"\n",
    "model=\"mistralai/Mistral-7B-v0.1\"\n",
    "\n",
    "# vLLM does not support multiple instanes, so only instanciate LLM once.\n",
    "llm = LLM(model=model, trust_remote_code=True, tensor_parallel_size=2)"
   ]
  },
  {
   "cell_type": "code",
   "execution_count": null,
   "id": "1410895b",
   "metadata": {
    "scrolled": true
   },
   "outputs": [],
   "source": [
    "prompt=\"\"\"\"Please provide a detailed description of the biochemical function \n",
    "5-(hydroxymethyl)furfural/furfural transporter.\"\"\"\n",
    "sampling_params = SamplingParams(temperature=0.0, max_tokens=512, n=1)\n",
    "output = llm.generate(prompt, sampling_params)\n",
    "print (output[0].outputs[0].text)"
   ]
  },
  {
   "cell_type": "code",
   "execution_count": null,
   "id": "df019d38",
   "metadata": {},
   "outputs": [],
   "source": [
    "for request_output in output:\n",
    "    print(f'\\n\\n{request_output}\\n\\n')\n",
    "    for completion_output in request_output.outputs:\n",
    "        print(f'\\t{completion_output}\\n\\n')"
   ]
  }
 ],
 "metadata": {
  "kernelspec": {
   "display_name": "Python 3 (ipykernel)",
   "language": "python",
   "name": "python3"
  },
  "language_info": {
   "codemirror_mode": {
    "name": "ipython",
    "version": 3
   },
   "file_extension": ".py",
   "mimetype": "text/x-python",
   "name": "python",
   "nbconvert_exporter": "python",
   "pygments_lexer": "ipython3",
   "version": "3.11.4"
  }
 },
 "nbformat": 4,
 "nbformat_minor": 5
}
