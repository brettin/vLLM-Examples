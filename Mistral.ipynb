{
 "cells": [
  {
   "cell_type": "code",
   "execution_count": 1,
   "id": "859e0352",
   "metadata": {},
   "outputs": [
    {
     "name": "stderr",
     "output_type": "stream",
     "text": [
      "/rbscratch/brettin/conda_envs/vLLM/lib/python3.11/site-packages/transformers/utils/hub.py:124: FutureWarning: Using `TRANSFORMERS_CACHE` is deprecated and will be removed in v5 of Transformers. Use `HF_HOME` instead.\n",
      "  warnings.warn(\n",
      "2024-02-05 16:03:49,663\tINFO worker.py:1540 -- Connecting to existing Ray cluster at address: 140.221.79.202:6379...\n",
      "2024-02-05 16:03:49,719\tINFO worker.py:1715 -- Connected to Ray cluster. View the dashboard at \u001b[1m\u001b[32mhttp://127.0.0.1:8265 \u001b[39m\u001b[22m\n"
     ]
    },
    {
     "name": "stdout",
     "output_type": "stream",
     "text": [
      "INFO 02-05 16:03:50 llm_engine.py:70] Initializing an LLM engine with config: model='mistralai/Mixtral-8x7B-Instruct-v0.1', tokenizer='mistralai/Mixtral-8x7B-Instruct-v0.1', tokenizer_mode=auto, revision=None, tokenizer_revision=None, trust_remote_code=True, dtype=torch.bfloat16, max_seq_len=32768, download_dir=None, load_format=auto, tensor_parallel_size=4, quantization=None, enforce_eager=False, seed=0)\n"
     ]
    },
    {
     "name": "stderr",
     "output_type": "stream",
     "text": [
      "\u001b[36m(pid=184227)\u001b[0m /rbscratch/brettin/conda_envs/vLLM/lib/python3.11/site-packages/transformers/utils/hub.py:124: FutureWarning: Using `TRANSFORMERS_CACHE` is deprecated and will be removed in v5 of Transformers. Use `HF_HOME` instead.\n",
      "\u001b[36m(pid=184227)\u001b[0m   warnings.warn(\n",
      "\u001b[36m(pid=184641)\u001b[0m /rbscratch/brettin/conda_envs/vLLM/lib/python3.11/site-packages/transformers/utils/hub.py:124: FutureWarning: Using `TRANSFORMERS_CACHE` is deprecated and will be removed in v5 of Transformers. Use `HF_HOME` instead.\u001b[32m [repeated 3x across cluster] (Ray deduplicates logs by default. Set RAY_DEDUP_LOGS=0 to disable log deduplication, or see https://docs.ray.io/en/master/ray-observability/ray-logging.html#log-deduplication for more options.)\u001b[0m\n",
      "\u001b[36m(pid=184641)\u001b[0m   warnings.warn(\u001b[32m [repeated 3x across cluster]\u001b[0m\n"
     ]
    },
    {
     "name": "stdout",
     "output_type": "stream",
     "text": [
      "NCCL version 2.18.1+cuda12.1\n"
     ]
    },
    {
     "name": "stderr",
     "output_type": "stream",
     "text": [
      "libibverbs: Warning: couldn't load driver 'librxe-rdmav34.so': librxe-rdmav34.so: cannot open shared object file: No such file or directory\n",
      "libibverbs: Warning: couldn't load driver '/usr/lib/libibverbs/libmlx4-rdmav34.so': /usr/lib/libibverbs/libmlx4-rdmav34.so: cannot open shared object file: No such file or directory\n",
      "\u001b[36m(RayWorkerVllm pid=184407)\u001b[0m libibverbs: Warning: couldn't load driver 'librxe-rdmav34.so': librxe-rdmav34.so: cannot open shared object file: No such file or directory\n",
      "\u001b[36m(RayWorkerVllm pid=184407)\u001b[0m libibverbs: Warning: couldn't load driver '/usr/lib/libibverbs/libmlx4-rdmav34.so': /usr/lib/libibverbs/libmlx4-rdmav34.so: cannot open shared object file: No such file or directory\n"
     ]
    },
    {
     "data": {
      "application/vnd.jupyter.widget-view+json": {
       "model_id": "8371b551650f4e6f8b6a3acbff28d465",
       "version_major": 2,
       "version_minor": 0
      },
      "text/plain": [
       "model-00001-of-00019.safetensors:   0%|          | 0.00/4.89G [00:00<?, ?B/s]"
      ]
     },
     "metadata": {},
     "output_type": "display_data"
    },
    {
     "data": {
      "application/vnd.jupyter.widget-view+json": {
       "model_id": "4bd75df5f84d41a9a62e4c73cb4519c7",
       "version_major": 2,
       "version_minor": 0
      },
      "text/plain": [
       "model-00005-of-00019.safetensors:   0%|          | 0.00/4.98G [00:00<?, ?B/s]"
      ]
     },
     "metadata": {},
     "output_type": "display_data"
    },
    {
     "data": {
      "application/vnd.jupyter.widget-view+json": {
       "model_id": "b8ba62459aff4232b9939b6302718e3c",
       "version_major": 2,
       "version_minor": 0
      },
      "text/plain": [
       "model-00006-of-00019.safetensors:   0%|          | 0.00/4.98G [00:00<?, ?B/s]"
      ]
     },
     "metadata": {},
     "output_type": "display_data"
    },
    {
     "data": {
      "application/vnd.jupyter.widget-view+json": {
       "model_id": "3dff3dcc2d96453d9ec7ae94856eb8aa",
       "version_major": 2,
       "version_minor": 0
      },
      "text/plain": [
       "model-00003-of-00019.safetensors:   0%|          | 0.00/4.98G [00:00<?, ?B/s]"
      ]
     },
     "metadata": {},
     "output_type": "display_data"
    },
    {
     "data": {
      "application/vnd.jupyter.widget-view+json": {
       "model_id": "290d3392709f4f7f89379e3ff4985783",
       "version_major": 2,
       "version_minor": 0
      },
      "text/plain": [
       "model-00007-of-00019.safetensors:   0%|          | 0.00/4.90G [00:00<?, ?B/s]"
      ]
     },
     "metadata": {},
     "output_type": "display_data"
    },
    {
     "data": {
      "application/vnd.jupyter.widget-view+json": {
       "model_id": "299c8909141643b19f17cc42bb5c1e68",
       "version_major": 2,
       "version_minor": 0
      },
      "text/plain": [
       "model-00008-of-00019.safetensors:   0%|          | 0.00/4.98G [00:00<?, ?B/s]"
      ]
     },
     "metadata": {},
     "output_type": "display_data"
    },
    {
     "data": {
      "application/vnd.jupyter.widget-view+json": {
       "model_id": "acab25a93dc7465589ea96f6c391bf9c",
       "version_major": 2,
       "version_minor": 0
      },
      "text/plain": [
       "model-00002-of-00019.safetensors:   0%|          | 0.00/4.98G [00:00<?, ?B/s]"
      ]
     },
     "metadata": {},
     "output_type": "display_data"
    },
    {
     "data": {
      "application/vnd.jupyter.widget-view+json": {
       "model_id": "0274297f951243d9b576737300cb39da",
       "version_major": 2,
       "version_minor": 0
      },
      "text/plain": [
       "model-00004-of-00019.safetensors:   0%|          | 0.00/4.90G [00:00<?, ?B/s]"
      ]
     },
     "metadata": {},
     "output_type": "display_data"
    },
    {
     "data": {
      "application/vnd.jupyter.widget-view+json": {
       "model_id": "4a67a3b87e68487386597467f53e281a",
       "version_major": 2,
       "version_minor": 0
      },
      "text/plain": [
       "model-00009-of-00019.safetensors:   0%|          | 0.00/4.98G [00:00<?, ?B/s]"
      ]
     },
     "metadata": {},
     "output_type": "display_data"
    },
    {
     "data": {
      "application/vnd.jupyter.widget-view+json": {
       "model_id": "3d789799e22d4c08a3269552c2e0e911",
       "version_major": 2,
       "version_minor": 0
      },
      "text/plain": [
       "model-00010-of-00019.safetensors:   0%|          | 0.00/4.90G [00:00<?, ?B/s]"
      ]
     },
     "metadata": {},
     "output_type": "display_data"
    },
    {
     "data": {
      "application/vnd.jupyter.widget-view+json": {
       "model_id": "12d37dc0bfc645eeba619731b18bd962",
       "version_major": 2,
       "version_minor": 0
      },
      "text/plain": [
       "model-00011-of-00019.safetensors:   0%|          | 0.00/4.98G [00:00<?, ?B/s]"
      ]
     },
     "metadata": {},
     "output_type": "display_data"
    },
    {
     "data": {
      "application/vnd.jupyter.widget-view+json": {
       "model_id": "3267a713172f4fd7b5c9ed63dbbd7d0b",
       "version_major": 2,
       "version_minor": 0
      },
      "text/plain": [
       "model-00012-of-00019.safetensors:   0%|          | 0.00/4.98G [00:00<?, ?B/s]"
      ]
     },
     "metadata": {},
     "output_type": "display_data"
    },
    {
     "data": {
      "application/vnd.jupyter.widget-view+json": {
       "model_id": "c890a56e749d459d90f3095353b870c5",
       "version_major": 2,
       "version_minor": 0
      },
      "text/plain": [
       "model-00013-of-00019.safetensors:   0%|          | 0.00/4.98G [00:00<?, ?B/s]"
      ]
     },
     "metadata": {},
     "output_type": "display_data"
    },
    {
     "data": {
      "application/vnd.jupyter.widget-view+json": {
       "model_id": "ecbfd878d4e446df9bc84eb9369a7d52",
       "version_major": 2,
       "version_minor": 0
      },
      "text/plain": [
       "model-00014-of-00019.safetensors:   0%|          | 0.00/4.90G [00:00<?, ?B/s]"
      ]
     },
     "metadata": {},
     "output_type": "display_data"
    },
    {
     "data": {
      "application/vnd.jupyter.widget-view+json": {
       "model_id": "7622b390f1aa4bcb95b5e4c73d83b05a",
       "version_major": 2,
       "version_minor": 0
      },
      "text/plain": [
       "model-00015-of-00019.safetensors:   0%|          | 0.00/4.98G [00:00<?, ?B/s]"
      ]
     },
     "metadata": {},
     "output_type": "display_data"
    },
    {
     "data": {
      "application/vnd.jupyter.widget-view+json": {
       "model_id": "520cc4eab8ee45adbed379357d6e45de",
       "version_major": 2,
       "version_minor": 0
      },
      "text/plain": [
       "model-00016-of-00019.safetensors:   0%|          | 0.00/4.98G [00:00<?, ?B/s]"
      ]
     },
     "metadata": {},
     "output_type": "display_data"
    },
    {
     "data": {
      "application/vnd.jupyter.widget-view+json": {
       "model_id": "7d4f21e782fc43d2afb49dcb64a2935d",
       "version_major": 2,
       "version_minor": 0
      },
      "text/plain": [
       "model-00018-of-00019.safetensors:   0%|          | 0.00/4.98G [00:00<?, ?B/s]"
      ]
     },
     "metadata": {},
     "output_type": "display_data"
    },
    {
     "data": {
      "application/vnd.jupyter.widget-view+json": {
       "model_id": "45c9fb0c14fc4c8caca04e618ae6c25e",
       "version_major": 2,
       "version_minor": 0
      },
      "text/plain": [
       "model-00019-of-00019.safetensors:   0%|          | 0.00/4.22G [00:00<?, ?B/s]"
      ]
     },
     "metadata": {},
     "output_type": "display_data"
    },
    {
     "data": {
      "application/vnd.jupyter.widget-view+json": {
       "model_id": "210994e87d56402e8252d522ec44588e",
       "version_major": 2,
       "version_minor": 0
      },
      "text/plain": [
       "model-00017-of-00019.safetensors:   0%|          | 0.00/4.90G [00:00<?, ?B/s]"
      ]
     },
     "metadata": {},
     "output_type": "display_data"
    },
    {
     "name": "stdout",
     "output_type": "stream",
     "text": [
      "INFO 02-05 16:07:05 llm_engine.py:275] # GPU blocks: 14524, # CPU blocks: 8192\n",
      "INFO 02-05 16:07:07 model_runner.py:501] Capturing the model for CUDA graphs. This may lead to unexpected consequences if the model is not static. To run the model in eager mode, set 'enforce_eager=True' or use '--enforce-eager' in the CLI.\n",
      "INFO 02-05 16:07:07 model_runner.py:505] CUDA graphs can take additional 1~3 GiB memory per GPU. If you are running out of memory, consider decreasing `gpu_memory_utilization` or enforcing eager mode.\n",
      "\u001b[36m(RayWorkerVllm pid=184407)\u001b[0m INFO 02-05 16:07:07 model_runner.py:501] Capturing the model for CUDA graphs. This may lead to unexpected consequences if the model is not static. To run the model in eager mode, set 'enforce_eager=True' or use '--enforce-eager' in the CLI.\n",
      "\u001b[36m(RayWorkerVllm pid=184407)\u001b[0m INFO 02-05 16:07:07 model_runner.py:505] CUDA graphs can take additional 1~3 GiB memory per GPU. If you are running out of memory, consider decreasing `gpu_memory_utilization` or enforcing eager mode.\n"
     ]
    },
    {
     "name": "stderr",
     "output_type": "stream",
     "text": [
      "[W CUDAGraph.cpp:145] Warning: Waiting for pending NCCL work to finish before starting graph capture. (function operator())\n",
      "\u001b[36m(RayWorkerVllm pid=184407)\u001b[0m [W CUDAGraph.cpp:145] Warning: Waiting for pending NCCL work to finish before starting graph capture. (function operator())\n",
      "\u001b[36m(RayWorkerVllm pid=184641)\u001b[0m libibverbs: Warning: couldn't load driver '/usr/lib/libibverbs/libmlx4-rdmav34.so': /usr/lib/libibverbs/libmlx4-rdmav34.so: cannot open shared object file: No such file or directory\u001b[32m [repeated 4x across cluster]\u001b[0m\n"
     ]
    },
    {
     "name": "stdout",
     "output_type": "stream",
     "text": [
      "INFO 02-05 16:07:41 model_runner.py:547] Graph capturing finished in 35 secs.\n"
     ]
    }
   ],
   "source": [
    "from vllm import LLM, SamplingParams\n",
    "import ray\n",
    "\n",
    "# ray.init(num_cpus=32, num_gpus=4)\n",
    "# you can not override num_cpu, num_gpu when connecting to an existing cluster\n",
    "\n",
    "#model=\"tiiuae/falcon-40b\"\n",
    "model=\"mistralai/Mistral-7B-v0.1\"       # requires tensor_parallel_size=2\n",
    "# model=\"upstage/SOLAR-10.7B-v1.0\"      # does not generate a valid response.\n",
    "model=\"mistralai/Mixtral-8x7B-Instruct-v0.1\" # requires tensor_parrallel_size=4\n",
    "\n",
    "# vLLM does not support multiple instanes, so only instanciate LLM once.\n",
    "llm = LLM(model=model, trust_remote_code=True, tensor_parallel_size=4)"
   ]
  },
  {
   "cell_type": "code",
   "execution_count": 2,
   "id": "1410895b",
   "metadata": {
    "scrolled": true
   },
   "outputs": [
    {
     "name": "stderr",
     "output_type": "stream",
     "text": [
      "\r",
      "Processed prompts:   0%|                                  | 0/1 [00:00<?, ?it/s]"
     ]
    },
    {
     "name": "stdout",
     "output_type": "stream",
     "text": [
      "\u001b[36m(RayWorkerVllm pid=184407)\u001b[0m INFO 02-05 16:07:41 model_runner.py:547] Graph capturing finished in 35 secs.\n"
     ]
    },
    {
     "name": "stderr",
     "output_type": "stream",
     "text": [
      "Processed prompts: 100%|██████████████████████████| 1/1 [00:10<00:00, 10.48s/it]"
     ]
    },
    {
     "name": "stdout",
     "output_type": "stream",
     "text": [
      "\n",
      "\n",
      "The biochemical function of the 5-(hydroxymethyl)furfural/furfural transporter is to facilitate the transport of 5-(hydroxymethyl)furfural (5-HMF) and furfural across cell membranes. 5-HMF and furfural are both furan derivatives that are produced during the thermal degradation of carbohydrates, such as during the processing of biomass for biofuels. These compounds are toxic to microorganisms and can inhibit the growth and metabolism of microbial cells.\n",
      "\n",
      "The 5-(hydroxymethyl)furfural/furfural transporter is a membrane protein that is responsible for the active transport of 5-HMF and furfural into the cell. This transporter is specific to furan derivatives and does not transport other compounds. The transporter uses energy from ATP hydrolysis to transport 5-HMF and furfural against their concentration gradient, allowing the cells to accumulate these compounds and detoxify them.\n",
      "\n",
      "The 5-(hydroxymethyl)furfural/furfural transporter is essential for the survival and growth of microorganisms in environments where 5-HMF and furfural are present. By transporting these compounds into the cell, the transporter enables the cells to metabolize and detoxify them, allowing the cells to grow and multiply in the presence of these toxic compounds.\n",
      "\n",
      "In summary, the 5-(hydroxymethyl)furfural/furfural transporter is a membrane protein that facilitates the active transport of 5-HMF and furfural into the cell, enabling the cells to detoxify these compounds and grow in environments where they are present.\"\n"
     ]
    },
    {
     "name": "stderr",
     "output_type": "stream",
     "text": [
      "\n"
     ]
    }
   ],
   "source": [
    "prompt=\"\"\"\"Please provide a detailed description of the biochemical function \n",
    "5-(hydroxymethyl)furfural/furfural transporter.\"\"\"\n",
    "sampling_params = SamplingParams(temperature=0.2, max_tokens=512, n=1)\n",
    "output = llm.generate(prompt, sampling_params)\n",
    "print (output[0].outputs[0].text)"
   ]
  },
  {
   "cell_type": "code",
   "execution_count": 3,
   "id": "df019d38",
   "metadata": {},
   "outputs": [
    {
     "name": "stdout",
     "output_type": "stream",
     "text": [
      "\n",
      "\n",
      "RequestOutput(request_id=0, prompt='\"Please provide a detailed description of the biochemical function \\n5-(hydroxymethyl)furfural/furfural transporter.', prompt_token_ids=[1, 345, 12069, 3084, 264, 10537, 5436, 302, 272, 4240, 402, 6981, 745, 908, 28705, 13, 28782, 24894, 28716, 11033, 28744, 1082, 761, 2951, 28731, 26711, 28722, 1890, 28748, 26711, 28722, 1890, 1203, 17175, 28723], prompt_logprobs=None, outputs=[CompletionOutput(index=0, text='\\n\\nThe biochemical function of the 5-(hydroxymethyl)furfural/furfural transporter is to facilitate the transport of 5-(hydroxymethyl)furfural (5-HMF) and furfural across cell membranes. 5-HMF and furfural are both furan derivatives that are produced during the thermal degradation of carbohydrates, such as during the processing of biomass for biofuels. These compounds are toxic to microorganisms and can inhibit the growth and metabolism of microbial cells.\\n\\nThe 5-(hydroxymethyl)furfural/furfural transporter is a membrane protein that is responsible for the active transport of 5-HMF and furfural into the cell. This transporter is specific to furan derivatives and does not transport other compounds. The transporter uses energy from ATP hydrolysis to transport 5-HMF and furfural against their concentration gradient, allowing the cells to accumulate these compounds and detoxify them.\\n\\nThe 5-(hydroxymethyl)furfural/furfural transporter is essential for the survival and growth of microorganisms in environments where 5-HMF and furfural are present. By transporting these compounds into the cell, the transporter enables the cells to metabolize and detoxify them, allowing the cells to grow and multiply in the presence of these toxic compounds.\\n\\nIn summary, the 5-(hydroxymethyl)furfural/furfural transporter is a membrane protein that facilitates the active transport of 5-HMF and furfural into the cell, enabling the cells to detoxify these compounds and grow in environments where they are present.\"', token_ids=[13, 13, 1014, 4240, 402, 6981, 745, 908, 302, 272, 28705, 28782, 24894, 28716, 11033, 28744, 1082, 761, 2951, 28731, 26711, 28722, 1890, 28748, 26711, 28722, 1890, 1203, 17175, 349, 298, 25729, 272, 6209, 302, 28705, 28782, 24894, 28716, 11033, 28744, 1082, 761, 2951, 28731, 26711, 28722, 1890, 325, 28782, 28733, 28769, 24721, 28731, 304, 2982, 28722, 1890, 2673, 3601, 25983, 8782, 28723, 28705, 28782, 28733, 28769, 24721, 304, 2982, 28722, 1890, 460, 1560, 2982, 276, 12314, 5087, 369, 460, 6763, 1938, 272, 18966, 340, 6336, 352, 302, 24167, 1371, 28724, 2922, 1002, 28725, 1259, 390, 1938, 272, 9457, 302, 4240, 300, 489, 354, 17004, 21278, 1190, 28723, 2957, 623, 4647, 460, 18882, 298, 7817, 8974, 10821, 304, 541, 22358, 279, 272, 6057, 304, 1424, 21530, 1443, 302, 7817, 28726, 505, 8894, 28723, 13, 13, 1014, 28705, 28782, 24894, 28716, 11033, 28744, 1082, 761, 2951, 28731, 26711, 28722, 1890, 28748, 26711, 28722, 1890, 1203, 17175, 349, 264, 25983, 1564, 14311, 369, 349, 7332, 354, 272, 5038, 6209, 302, 28705, 28782, 28733, 28769, 24721, 304, 2982, 28722, 1890, 778, 272, 3601, 28723, 851, 1203, 17175, 349, 2948, 298, 2982, 276, 12314, 5087, 304, 1235, 459, 6209, 799, 623, 4647, 28723, 415, 1203, 17175, 6098, 3408, 477, 330, 4904, 15208, 346, 15412, 298, 6209, 28705, 28782, 28733, 28769, 24721, 304, 2982, 28722, 1890, 1835, 652, 15987, 21135, 28725, 9836, 272, 8894, 298, 14341, 6212, 1167, 623, 4647, 304, 1276, 1142, 1575, 706, 28723, 13, 13, 1014, 28705, 28782, 24894, 28716, 11033, 28744, 1082, 761, 2951, 28731, 26711, 28722, 1890, 28748, 26711, 28722, 1890, 1203, 17175, 349, 7974, 354, 272, 16856, 304, 6057, 302, 7817, 8974, 10821, 297, 20031, 970, 28705, 28782, 28733, 28769, 24721, 304, 2982, 28722, 1890, 460, 2169, 28723, 2463, 6209, 288, 1167, 623, 4647, 778, 272, 3601, 28725, 272, 1203, 17175, 18156, 272, 8894, 298, 1424, 21530, 653, 304, 1276, 1142, 1575, 706, 28725, 9836, 272, 8894, 298, 2333, 304, 17669, 346, 297, 272, 6703, 302, 1167, 18882, 623, 4647, 28723, 13, 13, 657, 14060, 28725, 272, 28705, 28782, 24894, 28716, 11033, 28744, 1082, 761, 2951, 28731, 26711, 28722, 1890, 28748, 26711, 28722, 1890, 1203, 17175, 349, 264, 25983, 1564, 14311, 369, 13031, 279, 1002, 272, 5038, 6209, 302, 28705, 28782, 28733, 28769, 24721, 304, 2982, 28722, 1890, 778, 272, 3601, 28725, 25748, 272, 8894, 298, 1276, 1142, 1575, 1167, 623, 4647, 304, 2333, 297, 20031, 970, 590, 460, 2169, 611, 2], cumulative_logprob=-9.718909476592486, logprobs=None, finish_reason=stop)], finished=True)\n",
      "\n",
      "\n",
      "\tCompletionOutput(index=0, text='\\n\\nThe biochemical function of the 5-(hydroxymethyl)furfural/furfural transporter is to facilitate the transport of 5-(hydroxymethyl)furfural (5-HMF) and furfural across cell membranes. 5-HMF and furfural are both furan derivatives that are produced during the thermal degradation of carbohydrates, such as during the processing of biomass for biofuels. These compounds are toxic to microorganisms and can inhibit the growth and metabolism of microbial cells.\\n\\nThe 5-(hydroxymethyl)furfural/furfural transporter is a membrane protein that is responsible for the active transport of 5-HMF and furfural into the cell. This transporter is specific to furan derivatives and does not transport other compounds. The transporter uses energy from ATP hydrolysis to transport 5-HMF and furfural against their concentration gradient, allowing the cells to accumulate these compounds and detoxify them.\\n\\nThe 5-(hydroxymethyl)furfural/furfural transporter is essential for the survival and growth of microorganisms in environments where 5-HMF and furfural are present. By transporting these compounds into the cell, the transporter enables the cells to metabolize and detoxify them, allowing the cells to grow and multiply in the presence of these toxic compounds.\\n\\nIn summary, the 5-(hydroxymethyl)furfural/furfural transporter is a membrane protein that facilitates the active transport of 5-HMF and furfural into the cell, enabling the cells to detoxify these compounds and grow in environments where they are present.\"', token_ids=[13, 13, 1014, 4240, 402, 6981, 745, 908, 302, 272, 28705, 28782, 24894, 28716, 11033, 28744, 1082, 761, 2951, 28731, 26711, 28722, 1890, 28748, 26711, 28722, 1890, 1203, 17175, 349, 298, 25729, 272, 6209, 302, 28705, 28782, 24894, 28716, 11033, 28744, 1082, 761, 2951, 28731, 26711, 28722, 1890, 325, 28782, 28733, 28769, 24721, 28731, 304, 2982, 28722, 1890, 2673, 3601, 25983, 8782, 28723, 28705, 28782, 28733, 28769, 24721, 304, 2982, 28722, 1890, 460, 1560, 2982, 276, 12314, 5087, 369, 460, 6763, 1938, 272, 18966, 340, 6336, 352, 302, 24167, 1371, 28724, 2922, 1002, 28725, 1259, 390, 1938, 272, 9457, 302, 4240, 300, 489, 354, 17004, 21278, 1190, 28723, 2957, 623, 4647, 460, 18882, 298, 7817, 8974, 10821, 304, 541, 22358, 279, 272, 6057, 304, 1424, 21530, 1443, 302, 7817, 28726, 505, 8894, 28723, 13, 13, 1014, 28705, 28782, 24894, 28716, 11033, 28744, 1082, 761, 2951, 28731, 26711, 28722, 1890, 28748, 26711, 28722, 1890, 1203, 17175, 349, 264, 25983, 1564, 14311, 369, 349, 7332, 354, 272, 5038, 6209, 302, 28705, 28782, 28733, 28769, 24721, 304, 2982, 28722, 1890, 778, 272, 3601, 28723, 851, 1203, 17175, 349, 2948, 298, 2982, 276, 12314, 5087, 304, 1235, 459, 6209, 799, 623, 4647, 28723, 415, 1203, 17175, 6098, 3408, 477, 330, 4904, 15208, 346, 15412, 298, 6209, 28705, 28782, 28733, 28769, 24721, 304, 2982, 28722, 1890, 1835, 652, 15987, 21135, 28725, 9836, 272, 8894, 298, 14341, 6212, 1167, 623, 4647, 304, 1276, 1142, 1575, 706, 28723, 13, 13, 1014, 28705, 28782, 24894, 28716, 11033, 28744, 1082, 761, 2951, 28731, 26711, 28722, 1890, 28748, 26711, 28722, 1890, 1203, 17175, 349, 7974, 354, 272, 16856, 304, 6057, 302, 7817, 8974, 10821, 297, 20031, 970, 28705, 28782, 28733, 28769, 24721, 304, 2982, 28722, 1890, 460, 2169, 28723, 2463, 6209, 288, 1167, 623, 4647, 778, 272, 3601, 28725, 272, 1203, 17175, 18156, 272, 8894, 298, 1424, 21530, 653, 304, 1276, 1142, 1575, 706, 28725, 9836, 272, 8894, 298, 2333, 304, 17669, 346, 297, 272, 6703, 302, 1167, 18882, 623, 4647, 28723, 13, 13, 657, 14060, 28725, 272, 28705, 28782, 24894, 28716, 11033, 28744, 1082, 761, 2951, 28731, 26711, 28722, 1890, 28748, 26711, 28722, 1890, 1203, 17175, 349, 264, 25983, 1564, 14311, 369, 13031, 279, 1002, 272, 5038, 6209, 302, 28705, 28782, 28733, 28769, 24721, 304, 2982, 28722, 1890, 778, 272, 3601, 28725, 25748, 272, 8894, 298, 1276, 1142, 1575, 1167, 623, 4647, 304, 2333, 297, 20031, 970, 590, 460, 2169, 611, 2], cumulative_logprob=-9.718909476592486, logprobs=None, finish_reason=stop)\n",
      "\n",
      "\n"
     ]
    }
   ],
   "source": [
    "for request_output in output:\n",
    "    print(f'\\n\\n{request_output}\\n\\n')\n",
    "    for completion_output in request_output.outputs:\n",
    "        print(f'\\t{completion_output}\\n\\n')"
   ]
  },
  {
   "cell_type": "code",
   "execution_count": null,
   "id": "5134b41b",
   "metadata": {},
   "outputs": [],
   "source": []
  }
 ],
 "metadata": {
  "kernelspec": {
   "display_name": "Python 3 (ipykernel)",
   "language": "python",
   "name": "python3"
  },
  "language_info": {
   "codemirror_mode": {
    "name": "ipython",
    "version": 3
   },
   "file_extension": ".py",
   "mimetype": "text/x-python",
   "name": "python",
   "nbconvert_exporter": "python",
   "pygments_lexer": "ipython3",
   "version": "3.11.4"
  }
 },
 "nbformat": 4,
 "nbformat_minor": 5
}
