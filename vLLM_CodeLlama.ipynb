{
 "cells": [
  {
   "cell_type": "code",
   "execution_count": 1,
   "id": "8bb95fcf",
   "metadata": {},
   "outputs": [
    {
     "name": "stderr",
     "output_type": "stream",
     "text": [
      "NoneType: None\n"
     ]
    }
   ],
   "source": [
    "from vllm import LLM, SamplingParams\n",
    "import traceback\n",
    "traceback.print_exc()"
   ]
  },
  {
   "cell_type": "code",
   "execution_count": 4,
   "id": "e653afc6",
   "metadata": {},
   "outputs": [
    {
     "name": "stdout",
     "output_type": "stream",
     "text": [
      "NVIDIA A100 80GB PCIe\n",
      "_CudaDeviceProperties(name='NVIDIA A100 80GB PCIe', major=8, minor=0, total_memory=81050MB, multi_processor_count=108)\n",
      "NVIDIA A100 80GB PCIe\n",
      "_CudaDeviceProperties(name='NVIDIA A100 80GB PCIe', major=8, minor=0, total_memory=81050MB, multi_processor_count=108)\n",
      "NVIDIA A100 80GB PCIe\n",
      "_CudaDeviceProperties(name='NVIDIA A100 80GB PCIe', major=8, minor=0, total_memory=81050MB, multi_processor_count=108)\n",
      "NVIDIA A100 80GB PCIe\n",
      "_CudaDeviceProperties(name='NVIDIA A100 80GB PCIe', major=8, minor=0, total_memory=81050MB, multi_processor_count=108)\n",
      "NVIDIA A100 80GB PCIe\n",
      "_CudaDeviceProperties(name='NVIDIA A100 80GB PCIe', major=8, minor=0, total_memory=81050MB, multi_processor_count=108)\n",
      "NVIDIA A100 80GB PCIe\n",
      "_CudaDeviceProperties(name='NVIDIA A100 80GB PCIe', major=8, minor=0, total_memory=81050MB, multi_processor_count=108)\n",
      "NVIDIA A100 80GB PCIe\n",
      "_CudaDeviceProperties(name='NVIDIA A100 80GB PCIe', major=8, minor=0, total_memory=81050MB, multi_processor_count=108)\n",
      "NVIDIA A100 80GB PCIe\n",
      "_CudaDeviceProperties(name='NVIDIA A100 80GB PCIe', major=8, minor=0, total_memory=81050MB, multi_processor_count=108)\n"
     ]
    }
   ],
   "source": [
    "import torch\n",
    "for i in range(torch.cuda.device_count()):\n",
    "    print(torch.cuda.get_device_properties(i).name)\n",
    "    print(torch.cuda.get_device_properties(i))"
   ]
  },
  {
   "cell_type": "code",
   "execution_count": null,
   "id": "2e71f2a5",
   "metadata": {},
   "outputs": [],
   "source": [
    "import os\n",
    "os.environ['RAY_memory_monitor_refresh_ms']='0'"
   ]
  },
  {
   "cell_type": "code",
   "execution_count": null,
   "id": "3b212232",
   "metadata": {
    "scrolled": true
   },
   "outputs": [],
   "source": [
    "# llm = LLM(model=\"codellama/CodeLlama-7b-hf\")\n",
    "llm = LLM(model=\"codellama/CodeLlama-7b-hf\", tensor_parallel_size=2)\n",
    "# llm = LLM(model=\"codellama/CodeLlama-34b-Instruct-hf\", tensor_parallel_size=4, swap_space=1 )\n",
    "# traceback.print_exc()"
   ]
  },
  {
   "cell_type": "code",
   "execution_count": null,
   "id": "eb93d1bc",
   "metadata": {},
   "outputs": [],
   "source": [
    "PROMPT = '''def remove_non_ascii(s: str) -> str:\n",
    "    \"\"\" <FILL_ME>\n",
    "    return result\n",
    "'''"
   ]
  },
  {
   "cell_type": "code",
   "execution_count": null,
   "id": "ad3de6c4",
   "metadata": {},
   "outputs": [],
   "source": [
    "# from transformers import LlamaForCausalLM, CodeLlamaTokenizer"
   ]
  },
  {
   "cell_type": "code",
   "execution_count": null,
   "id": "b1eebde9",
   "metadata": {},
   "outputs": [],
   "source": [
    "sampling_params = SamplingParams(temperature=0.8, top_p=0.95)\n",
    "filling = llm.generate(PROMPT, sampling_params)"
   ]
  },
  {
   "cell_type": "code",
   "execution_count": null,
   "id": "9d6f96e9",
   "metadata": {},
   "outputs": [],
   "source": [
    "print (filling)"
   ]
  },
  {
   "cell_type": "code",
   "execution_count": null,
   "id": "33c24bd3",
   "metadata": {},
   "outputs": [],
   "source": [
    "from vllm.transformers_utils import tokenizer"
   ]
  },
  {
   "cell_type": "code",
   "execution_count": null,
   "id": "50f1b320",
   "metadata": {},
   "outputs": [],
   "source": [
    "VLLMtokenizer=tokenizer.get_tokenizer(\"hf-internal-testing/llama-tokenizer\")"
   ]
  },
  {
   "cell_type": "code",
   "execution_count": null,
   "id": "4d7b65d7",
   "metadata": {},
   "outputs": [],
   "source": [
    "tokenizer.detokenize_incrementally(VLLMtokenizer,[\"\"], 822, 1)"
   ]
  },
  {
   "cell_type": "code",
   "execution_count": null,
   "id": "1d2e29b1",
   "metadata": {},
   "outputs": [],
   "source": [
    "print(filling[0].outputs[0].)\n",
    "prompty = filling[0].prompt_token_ids[2:]"
   ]
  },
  {
   "cell_type": "code",
   "execution_count": null,
   "id": "1746ac4f",
   "metadata": {},
   "outputs": [],
   "source": [
    "output=\"\"\n",
    "for x in prompty:\n",
    "    if (x < 30000):\n",
    "        new_token, output = tokenizer.detokenize_incrementally(VLLMtokenizer,[output], x, 0)\n",
    "print(output)"
   ]
  },
  {
   "cell_type": "code",
   "execution_count": null,
   "id": "c0fca4e7",
   "metadata": {},
   "outputs": [],
   "source": []
  },
  {
   "cell_type": "code",
   "execution_count": null,
   "id": "647545ca",
   "metadata": {},
   "outputs": [],
   "source": []
  }
 ],
 "metadata": {
  "kernelspec": {
   "display_name": "Python 3 (ipykernel)",
   "language": "python",
   "name": "python3"
  },
  "language_info": {
   "codemirror_mode": {
    "name": "ipython",
    "version": 3
   },
   "file_extension": ".py",
   "mimetype": "text/x-python",
   "name": "python",
   "nbconvert_exporter": "python",
   "pygments_lexer": "ipython3",
   "version": "3.11.5"
  }
 },
 "nbformat": 4,
 "nbformat_minor": 5
}
