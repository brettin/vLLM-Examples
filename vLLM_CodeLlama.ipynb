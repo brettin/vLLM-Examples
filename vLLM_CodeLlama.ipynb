{
 "cells": [
  {
   "cell_type": "code",
   "execution_count": 1,
   "id": "8bb95fcf",
   "metadata": {},
   "outputs": [
    {
     "name": "stderr",
     "output_type": "stream",
     "text": [
      "NoneType: None\n"
     ]
    }
   ],
   "source": [
    "from vllm import LLM, SamplingParams\n",
    "import traceback\n",
    "traceback.print_exc()"
   ]
  },
  {
   "cell_type": "code",
   "execution_count": 2,
   "id": "e653afc6",
   "metadata": {},
   "outputs": [
    {
     "name": "stdout",
     "output_type": "stream",
     "text": [
      "NVIDIA A100-SXM4-40GB\n",
      "NVIDIA A100-SXM4-40GB\n",
      "NVIDIA A100-SXM4-40GB\n",
      "NVIDIA A100-SXM4-40GB\n",
      "NVIDIA A100-SXM4-40GB\n",
      "NVIDIA A100-SXM4-40GB\n",
      "NVIDIA A100-SXM4-40GB\n",
      "NVIDIA A100-SXM4-40GB\n"
     ]
    }
   ],
   "source": [
    "import torch\n",
    "for i in range(torch.cuda.device_count()):\n",
    "   print(torch.cuda.get_device_properties(i).name)"
   ]
  },
  {
   "cell_type": "code",
   "execution_count": 3,
   "id": "2e71f2a5",
   "metadata": {},
   "outputs": [],
   "source": [
    "import os\n",
    "os.environ['RAY_memory_monitor_refresh_ms']='0'"
   ]
  },
  {
   "cell_type": "code",
   "execution_count": 4,
   "id": "3b212232",
   "metadata": {
    "scrolled": true
   },
   "outputs": [
    {
     "data": {
      "application/vnd.jupyter.widget-view+json": {
       "model_id": "1d2aa78e1561481bbd7140a10d26ded1",
       "version_major": 2,
       "version_minor": 0
      },
      "text/plain": [
       "Downloading (…)lve/main/config.json:   0%|          | 0.00/637 [00:00<?, ?B/s]"
      ]
     },
     "metadata": {},
     "output_type": "display_data"
    },
    {
     "name": "stdout",
     "output_type": "stream",
     "text": [
      "INFO 09-21 07:06:11 llm_engine.py:72] Initializing an LLM engine with config: model='codellama/CodeLlama-7b-hf', tokenizer='codellama/CodeLlama-7b-hf', tokenizer_mode=auto, trust_remote_code=False, dtype=torch.bfloat16, download_dir=None, load_format=auto, tensor_parallel_size=1, seed=0)\n",
      "INFO 09-21 07:06:11 tokenizer.py:30] For some LLaMA-based models, initializing the fast tokenizer may take a long time. To eliminate the initialization time, consider using 'hf-internal-testing/llama-tokenizer' instead of the original tokenizer.\n"
     ]
    },
    {
     "data": {
      "application/vnd.jupyter.widget-view+json": {
       "model_id": "cb0a4490b53e4a21b8c5b0cb3f096455",
       "version_major": 2,
       "version_minor": 0
      },
      "text/plain": [
       "Downloading (…)okenizer_config.json:   0%|          | 0.00/749 [00:00<?, ?B/s]"
      ]
     },
     "metadata": {},
     "output_type": "display_data"
    },
    {
     "data": {
      "application/vnd.jupyter.widget-view+json": {
       "model_id": "e3d4ffe3e7b249b2ac6414ad2832b6e7",
       "version_major": 2,
       "version_minor": 0
      },
      "text/plain": [
       "Downloading tokenizer.model:   0%|          | 0.00/500k [00:00<?, ?B/s]"
      ]
     },
     "metadata": {},
     "output_type": "display_data"
    },
    {
     "data": {
      "application/vnd.jupyter.widget-view+json": {
       "model_id": "0d6e642ea3944c52a7279daf30cf2fbf",
       "version_major": 2,
       "version_minor": 0
      },
      "text/plain": [
       "Downloading (…)/main/tokenizer.json:   0%|          | 0.00/1.84M [00:00<?, ?B/s]"
      ]
     },
     "metadata": {},
     "output_type": "display_data"
    },
    {
     "data": {
      "application/vnd.jupyter.widget-view+json": {
       "model_id": "006c97fbd44b46ccb480fef8940ec626",
       "version_major": 2,
       "version_minor": 0
      },
      "text/plain": [
       "Downloading (…)cial_tokens_map.json:   0%|          | 0.00/411 [00:00<?, ?B/s]"
      ]
     },
     "metadata": {},
     "output_type": "display_data"
    },
    {
     "name": "stdout",
     "output_type": "stream",
     "text": [
      "NCCL version 2.14.3+cuda11.7\n"
     ]
    },
    {
     "name": "stderr",
     "output_type": "stream",
     "text": [
      "libibverbs: Warning: couldn't load driver 'librxe-rdmav34.so': librxe-rdmav34.so: cannot open shared object file: No such file or directory\n",
      "libibverbs: Warning: couldn't load driver '/usr/lib/libibverbs/libmlx4-rdmav34.so': /usr/lib/libibverbs/libmlx4-rdmav34.so: cannot open shared object file: No such file or directory\n"
     ]
    },
    {
     "data": {
      "application/vnd.jupyter.widget-view+json": {
       "model_id": "e261f2eacdfc478182ff6e4c0fe134c2",
       "version_major": 2,
       "version_minor": 0
      },
      "text/plain": [
       "Downloading (…)of-00002.safetensors:   0%|          | 0.00/9.98G [00:00<?, ?B/s]"
      ]
     },
     "metadata": {},
     "output_type": "display_data"
    },
    {
     "data": {
      "application/vnd.jupyter.widget-view+json": {
       "model_id": "a2fdd8d544fb43f183b9932f4411e60c",
       "version_major": 2,
       "version_minor": 0
      },
      "text/plain": [
       "Downloading (…)of-00002.safetensors:   0%|          | 0.00/3.50G [00:00<?, ?B/s]"
      ]
     },
     "metadata": {},
     "output_type": "display_data"
    },
    {
     "name": "stdout",
     "output_type": "stream",
     "text": [
      "INFO 09-21 07:08:57 llm_engine.py:199] # GPU blocks: 2862, # CPU blocks: 512\n"
     ]
    },
    {
     "name": "stderr",
     "output_type": "stream",
     "text": [
      "NoneType: None\n"
     ]
    }
   ],
   "source": [
    "lm = LLM(model=\"codellama/CodeLlama-7b-hf\")\n",
    "# llm = LLM(model=\"codellama/CodeLlama-7b-hf\", tensor_parallel_size=2)\n",
    "# llm = LLM(model=\"codellama/CodeLlama-34b-Instruct-hf\", tensor_parallel_size=4, swap_space=1 )\n",
    "traceback.print_exc()"
   ]
  },
  {
   "cell_type": "code",
   "execution_count": null,
   "id": "eb93d1bc",
   "metadata": {},
   "outputs": [],
   "source": [
    "PROMPT = '''def remove_non_ascii(s: str) -> str:\n",
    "    \"\"\" <FILL_ME>\n",
    "    return result\n",
    "'''"
   ]
  },
  {
   "cell_type": "code",
   "execution_count": null,
   "id": "ad3de6c4",
   "metadata": {},
   "outputs": [],
   "source": [
    "# from transformers import LlamaForCausalLM, CodeLlamaTokenizer"
   ]
  },
  {
   "cell_type": "code",
   "execution_count": null,
   "id": "b1eebde9",
   "metadata": {},
   "outputs": [],
   "source": [
    "sampling_params = SamplingParams(temperature=0.8, top_p=0.95)\n",
    "filling = llm.generate(PROMPT, sampling_params)"
   ]
  },
  {
   "cell_type": "code",
   "execution_count": null,
   "id": "9d6f96e9",
   "metadata": {},
   "outputs": [],
   "source": [
    "print (filling)"
   ]
  },
  {
   "cell_type": "code",
   "execution_count": null,
   "id": "33c24bd3",
   "metadata": {},
   "outputs": [],
   "source": [
    "from vllm.transformers_utils import tokenizer"
   ]
  },
  {
   "cell_type": "code",
   "execution_count": null,
   "id": "50f1b320",
   "metadata": {},
   "outputs": [],
   "source": [
    "VLLMtokenizer=tokenizer.get_tokenizer(\"hf-internal-testing/llama-tokenizer\")"
   ]
  },
  {
   "cell_type": "code",
   "execution_count": null,
   "id": "4d7b65d7",
   "metadata": {},
   "outputs": [],
   "source": [
    "tokenizer.detokenize_incrementally(VLLMtokenizer,[\"\"], 822, 1)"
   ]
  },
  {
   "cell_type": "code",
   "execution_count": null,
   "id": "1d2e29b1",
   "metadata": {},
   "outputs": [],
   "source": [
    "print(filling[0].outputs[0].)\n",
    "prompty = filling[0].prompt_token_ids[2:]"
   ]
  },
  {
   "cell_type": "code",
   "execution_count": null,
   "id": "1746ac4f",
   "metadata": {},
   "outputs": [],
   "source": [
    "output=\"\"\n",
    "for x in prompty:\n",
    "    if (x < 30000):\n",
    "        new_token, output = tokenizer.detokenize_incrementally(VLLMtokenizer,[output], x, 0)\n",
    "print(output)"
   ]
  },
  {
   "cell_type": "code",
   "execution_count": null,
   "id": "c0fca4e7",
   "metadata": {},
   "outputs": [],
   "source": []
  },
  {
   "cell_type": "code",
   "execution_count": null,
   "id": "647545ca",
   "metadata": {},
   "outputs": [],
   "source": []
  }
 ],
 "metadata": {
  "kernelspec": {
   "display_name": "Python 3 (ipykernel)",
   "language": "python",
   "name": "python3"
  },
  "language_info": {
   "codemirror_mode": {
    "name": "ipython",
    "version": 3
   },
   "file_extension": ".py",
   "mimetype": "text/x-python",
   "name": "python",
   "nbconvert_exporter": "python",
   "pygments_lexer": "ipython3",
   "version": "3.11.4"
  }
 },
 "nbformat": 4,
 "nbformat_minor": 5
}
