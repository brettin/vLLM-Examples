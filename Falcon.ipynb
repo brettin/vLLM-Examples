{
 "cells": [
  {
   "cell_type": "code",
   "execution_count": null,
   "id": "c5ff70af",
   "metadata": {},
   "outputs": [],
   "source": [
    "from vllm import LLM, SamplingParams\n",
    "import ray\n",
    "import traceback\n",
    "traceback.print_exc()\n",
    "\n",
    "ray.init()"
   ]
  },
  {
   "cell_type": "code",
   "execution_count": null,
   "id": "cdec7466",
   "metadata": {},
   "outputs": [],
   "source": [
    "llm = LLM(model=\"tiiuae/falcon-40b\",trust_remote_code=True, tensor_parallel_size=4)  # Name or path of your model\n",
    "output = llm.generate(\"Hello, my name is\")\n",
    "print(output)"
   ]
  }
 ],
 "metadata": {
  "kernelspec": {
   "display_name": "Python 3 (ipykernel)",
   "language": "python",
   "name": "python3"
  },
  "language_info": {
   "codemirror_mode": {
    "name": "ipython",
    "version": 3
   },
   "file_extension": ".py",
   "mimetype": "text/x-python",
   "name": "python",
   "nbconvert_exporter": "python",
   "pygments_lexer": "ipython3",
   "version": "3.11.4"
  }
 },
 "nbformat": 4,
 "nbformat_minor": 5
}
